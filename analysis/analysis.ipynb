{
 "cells": [
  {
   "cell_type": "code",
   "execution_count": 6,
   "id": "7a2b99db-c07d-4a76-b18f-b04503e9cd94",
   "metadata": {},
   "outputs": [],
   "source": [
    "import collections\n",
    "\n",
    "from calculators.total import TotalCostCalculator\n",
    "import numpy as np"
   ]
  },
  {
   "cell_type": "code",
   "execution_count": 5,
   "id": "870a5d22-d0d5-4f55-8aa9-900a3003f617",
   "metadata": {},
   "outputs": [],
   "source": [
    "def linrange(start, stop, n=50):\n",
    "\treturn np.ceil(np.linspace(start, stop, n)).astype(int)\n",
    "\n",
    "\n",
    "def user_month_rate(calculator: TotalCostCalculator):\n",
    "\tcost = calculator.calculate_cost()\n",
    "\treturn cost / calculator.node.users"
   ]
  },
  {
   "cell_type": "code",
   "execution_count": 8,
   "outputs": [
    {
     "data": {
      "text/plain": "104.93831459864"
     },
     "execution_count": 8,
     "metadata": {},
     "output_type": "execute_result"
    }
   ],
   "source": [
    "defaults = {\n",
    "\t'users': 1e3,\n",
    "\t'msg_size_in_kb': 16,\n",
    "\t'msg_processing_in_secs': 1,\n",
    "\t'polling_in_secs': 10,\n",
    "\t'batch_size': 100,\n",
    "\t'batch_window_in_secs': 10,\n",
    "\t'msgs_received_per_min': 30,\n",
    "\t'concurrency': 10,\n",
    "\t'function_memory_in_mb': 256,\n",
    "\t'use_s3': True,\n",
    "\t'monthly_code_uploads': 1,\n",
    "\t'monthly_node_creations': 50,\n",
    "\t'monthly_node_deletions': 25,\n",
    "\t'existing_nodes': 1e3,\n",
    "\t'code_upload_in_mb': 256,\n",
    "\t'existing_code_in_mb': 0,\n",
    "\t'code_metadata_in_kb': 8,\n",
    "\t'node_metadata_in_kb': 8,\n",
    "}\n",
    "\n",
    "TotalCostCalculator(**defaults).calculate_cost()"
   ],
   "metadata": {
    "collapsed": false,
    "pycharm": {
     "name": "#%%\n"
    }
   }
  },
  {
   "cell_type": "code",
   "execution_count": 9,
   "outputs": [
    {
     "data": {
      "text/plain": "52.37831459864001"
     },
     "execution_count": 9,
     "metadata": {},
     "output_type": "execute_result"
    }
   ],
   "source": [
    "\n",
    "defaults_increased_polling = {**defaults, 'polling_in_secs': 15}\n",
    "TotalCostCalculator(**defaults_increased_polling).calculate_cost()"
   ],
   "metadata": {
    "collapsed": false,
    "pycharm": {
     "name": "#%%\n"
    }
   }
  },
  {
   "cell_type": "code",
   "execution_count": null,
   "outputs": [],
   "source": [
    "ranges = {\n",
    "\t'users': linrange(1, 1e5),\n",
    "\t'msg_size_in_kb': linrange(1, 256),\n",
    "\t'msg_processing_in_secs': linrange(0.1, 10),\n",
    "\t'polling_in_secs': linrange(1, 20),\n",
    "\t'batch_size': linrange(1, 1e3),\n",
    "\t'batch_window_in_secs': linrange(1, 30),\n",
    "\t'msgs_received_per_min': linrange(1, 120),\n",
    "\t'concurrency': linrange(5, 50),\n",
    "\t'function_memory_in_mb': linrange(128, 1024),\n",
    "\t'use_s3': (True, False),\n",
    "\t'monthly_code_uploads': linrange(1, 1e2),\n",
    "\t'monthly_node_creations': linrange(1, 1e2),\n",
    "\t'monthly_node_deletions': linrange(1, 1e2),\n",
    "\t'existing_nodes': linrange(0.1, 1e3),\n",
    "\t'code_upload_in_mb': linrange(0.1, 1e3),\n",
    "\t'existing_code_in_mb': linrange(0.1, 1e4),\n",
    "\t'code_metadata_in_kb': linrange(0.1, 1e3),\n",
    "\t'node_metadata_in_kb': linrange(0.1, 1e3),\n",
    "}"
   ],
   "metadata": {
    "collapsed": false,
    "pycharm": {
     "name": "#%%\n"
    }
   }
  },
  {
   "cell_type": "code",
   "execution_count": 169,
   "id": "eee32068-dfc5-425e-b07c-a8b56ce4c0d6",
   "metadata": {},
   "outputs": [
    {
     "data": {
      "text/plain": "{'users': (0.1033759184427382, 0.00014766199093914592),\n 'msg_size_in_kb': (0.18377831459864002, 0.0035636941440000025),\n 'msg_processing_in_secs': (0.10493831459864002, 1.925929944387236e-34),\n 'polling_in_secs': (0.0969847606780714, 0.009034126123865737),\n 'batch_size': (0.10493831459864002, 1.925929944387236e-34),\n 'batch_window_in_secs': (0.06597247859864, 0.00021877076863630399),\n 'msgs_received_per_min': (0.15911015459864003, 0.003771418529894401),\n 'concurrency': (0.10493831459864002, 1.925929944387236e-34),\n 'function_memory_in_mb': (0.10493831459864002, 1.925929944387236e-34),\n 'use_s3': (0.10494792709864001, 9.240015624997804e-11),\n 'monthly_code_uploads': (0.10572579947864, 2.0728496822866531e-07),\n 'monthly_node_creations': (0.10493832650563999, 1.2326177600131439e-13),\n 'monthly_node_deletions': (0.10493836006364, 2.5571250250874767e-15),\n 'existing_nodes': (0.10493236735428829, 1.229276784050423e-11),\n 'code_upload_in_mb': (0.10494380719629623, 4.373964954720137e-11),\n 'existing_code_in_mb': (0.10505063141504627, 4.375424600528407e-09),\n 'code_metadata_in_kb': (0.10555398959864001, 1.3546888812499996e-07),\n 'node_metadata_in_kb': (0.10508999220790821, 8.222037962248307e-09)}"
     },
     "execution_count": 169,
     "metadata": {},
     "output_type": "execute_result"
    }
   ],
   "source": [
    "results = collections.defaultdict(list)\n",
    "\n",
    "for param, values in ranges.items():\n",
    "\tkwargs = {**defaults}\n",
    "\tfor value in values:\n",
    "\t\tkwargs[param] = value\n",
    "\t\tcalc = TotalCostCalculator(**kwargs)\n",
    "\t\tresults[param].append(user_month_rate(calc))\n",
    "\tresults[param] = np.array(results[param])\n",
    "\n",
    "stats = {\n",
    "\tparam: (np.mean(values), np.var(values))\n",
    "\tfor param, values in results.items()\n",
    "}\n",
    "\n",
    "stats"
   ]
  },
  {
   "cell_type": "code",
   "execution_count": 170,
   "outputs": [],
   "source": [
    "def sort_by_var():\n",
    "\tranked = sorted(stats.items(), key=lambda x: x[1][1], reverse=True)\n",
    "\treturn {k: v for k, v in ranked}"
   ],
   "metadata": {
    "collapsed": false,
    "pycharm": {
     "name": "#%%\n"
    }
   }
  },
  {
   "cell_type": "code",
   "execution_count": 173,
   "outputs": [
    {
     "data": {
      "text/plain": "{'polling_in_secs': 0.009034126123865737,\n 'msgs_received_per_min': 0.003771418529894401,\n 'msg_size_in_kb': 0.0035636941440000025,\n 'batch_window_in_secs': 0.00021877076863630399,\n 'users': 0.00014766199093914592,\n 'monthly_code_uploads': 2.0728496822866531e-07,\n 'code_metadata_in_kb': 1.3546888812499996e-07,\n 'node_metadata_in_kb': 8.222037962248307e-09,\n 'existing_code_in_mb': 4.375424600528407e-09,\n 'use_s3': 9.240015624997804e-11,\n 'code_upload_in_mb': 4.373964954720137e-11,\n 'existing_nodes': 1.229276784050423e-11,\n 'monthly_node_creations': 1.2326177600131439e-13,\n 'monthly_node_deletions': 2.5571250250874767e-15,\n 'msg_processing_in_secs': 1.925929944387236e-34,\n 'batch_size': 1.925929944387236e-34,\n 'concurrency': 1.925929944387236e-34,\n 'function_memory_in_mb': 1.925929944387236e-34}"
     },
     "execution_count": 173,
     "metadata": {},
     "output_type": "execute_result"
    }
   ],
   "source": [
    "var_ranked = sort_by_var()\n",
    "variances = {k: v[1] for k, v in var_ranked.items()}\n",
    "variances"
   ],
   "metadata": {
    "collapsed": false,
    "pycharm": {
     "name": "#%%\n"
    }
   }
  },
  {
   "cell_type": "code",
   "execution_count": null,
   "outputs": [],
   "source": [
    "max_var = max(variances.values())\n",
    "normalized = {k: v / max_var for k, v in variances.items()}"
   ],
   "metadata": {
    "collapsed": false,
    "pycharm": {
     "name": "#%%\n"
    }
   }
  },
  {
   "cell_type": "code",
   "execution_count": 172,
   "outputs": [
    {
     "data": {
      "text/plain": "{'polling_in_secs': 1.0,\n 'msgs_received_per_min': 0.41746356849405997,\n 'msg_size_in_kb': 0.3944702669786377,\n 'batch_window_in_secs': 0.02421604100239096,\n 'users': 0.01634491138540368,\n 'monthly_code_uploads': 2.2944661762145878e-05,\n 'code_metadata_in_kb': 1.4995239856916267e-05,\n 'node_metadata_in_kb': 9.101088306181478e-07,\n 'existing_code_in_mb': 4.843218414861079e-07,\n 'use_s3': 1.0227901955661391e-08,\n 'code_upload_in_mb': 4.8416027125914206e-09,\n 'existing_nodes': 1.3607035890311555e-09,\n 'monthly_node_creations': 1.3644017618448989e-11,\n 'monthly_node_deletions': 2.830517296335103e-13,\n 'msg_processing_in_secs': 2.1318386725855484e-32,\n 'batch_size': 2.1318386725855484e-32,\n 'concurrency': 2.1318386725855484e-32,\n 'function_memory_in_mb': 2.1318386725855484e-32}"
     },
     "execution_count": 172,
     "metadata": {},
     "output_type": "execute_result"
    }
   ],
   "source": [
    "normalized"
   ],
   "metadata": {
    "collapsed": false,
    "pycharm": {
     "name": "#%%\n"
    }
   }
  },
  {
   "cell_type": "code",
   "execution_count": null,
   "outputs": [],
   "source": [],
   "metadata": {
    "collapsed": false,
    "pycharm": {
     "name": "#%%\n"
    }
   }
  }
 ],
 "metadata": {
  "kernelspec": {
   "display_name": "Python 3 (ipykernel)",
   "language": "python",
   "name": "python3"
  },
  "language_info": {
   "codemirror_mode": {
    "name": "ipython",
    "version": 3
   },
   "file_extension": ".py",
   "mimetype": "text/x-python",
   "name": "python",
   "nbconvert_exporter": "python",
   "pygments_lexer": "ipython3",
   "version": "3.8.2"
  }
 },
 "nbformat": 4,
 "nbformat_minor": 5
}